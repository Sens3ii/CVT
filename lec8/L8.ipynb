{
 "cells": [
  {
   "cell_type": "code",
   "execution_count": 3,
   "metadata": {},
   "outputs": [
    {
     "name": "stdout",
     "output_type": "stream",
     "text": [
      "3.8.5 (default, Sep  3 2020, 21:29:08) [MSC v.1916 64 bit (AMD64)]\n",
      "(11, 2)\n",
      "   score  grade\n",
      "0      1    1.0\n",
      "1      5    2.0\n",
      "2      9    3.0\n",
      "3     12    3.0\n",
      "4     18    3.4\n"
     ]
    },
    {
     "data": {
      "image/png": "[encoded data removed]",
      "text/plain": [
       "<Figure size 432x288 with 1 Axes>"
      ]
     },
     "metadata": {
      "needs_background": "light"
     },
     "output_type": "display_data"
    },
    {
     "name": "stdout",
     "output_type": "stream",
     "text": [
      "Initial cost 16.196363636363635\n",
      "Founded weights [0.73088528 0.10940777]\n",
      "Final cost 0.5696039545547834\n"
     ]
    },
    {
     "data": {
      "image/png": "[encoded data removed]",
      "text/plain": [
       "<Figure size 432x288 with 1 Axes>"
      ]
     },
     "metadata": {
      "needs_background": "light"
     },
     "output_type": "display_data"
    }
   ],
   "source": [
    "import sys\n",
    "print(sys.version)\n",
    "\n",
    "import numpy as np\n",
    "import pandas as pd\n",
    "import math\n",
    "import matplotlib.pyplot as plt\n",
    "\n",
    "data = pd.read_csv('grades.csv')\n",
    "print(data.shape)\n",
    "print(data.head())\n",
    "\n",
    "score = data['score'].values\n",
    "grade = data['grade'].values\n",
    "\n",
    "# plot regression dataset\n",
    "plt.scatter(score,grade)\n",
    "plt.show()\n",
    "\n",
    "m = len(score)\n",
    "x0 = np.ones(m)\n",
    "X = np.array([x0, score]).T\n",
    "\n",
    "# Initial Coefficients\n",
    "B = np.array([0, 0])\n",
    "Y = np.array(grade)\n",
    "alpha = 0.0001\n",
    "\n",
    "def cost_function(X, Y, B):\n",
    "    m = len(Y)\n",
    "    J = np.sum((X.dot(B) - Y) ** 2)/(2 * m)\n",
    "    return J\n",
    "\n",
    "inital_cost = cost_function(X, Y, B)\n",
    "print(\"Initial cost\",inital_cost)\n",
    "\n",
    "def gradient_descent(X, Y, B, alpha, iterations):\n",
    "    cost_history = [0] * iterations\n",
    "    m = len(Y)\n",
    "    \n",
    "    for iteration in range(iterations):\n",
    "        # Hypothesis Values\n",
    "        h = X.dot(B)\n",
    "        # Difference b/w Hypothesis and Actual Y\n",
    "        loss = h - Y\n",
    "        # Gradient Calculation\n",
    "        gradient = X.T.dot(loss) / m\n",
    "        # Changing Values of B using Gradient\n",
    "        B = B - alpha * gradient\n",
    "        # New Cost Value\n",
    "        cost = cost_function(X, Y, B)\n",
    "        cost_history[iteration] = cost\n",
    "        \n",
    "    return B, cost_history\n",
    "\n",
    "# 100000 Iterations\n",
    "newB, cost_history = gradient_descent(X, Y, B, alpha, 10000)\n",
    "\n",
    "# New Values of B\n",
    "print(\"Founded weights\",newB)\n",
    "\n",
    "# Final Cost of new B\n",
    "print(\"Final cost\",cost_history[-1])\n",
    "\n",
    "\n",
    "# draw linear regression\n",
    "def linreg(x):\n",
    "    return newB[0] + newB[1] * x\n",
    "\n",
    "x = np.arange(0, 100, 1)\n",
    "plt.scatter(score, grade)\n",
    "plt.plot(x, linreg(x), 'r')\n",
    "plt.show()"
   ]
  },
  {
   "cell_type": "code",
   "execution_count": 4,
   "metadata": {},
   "outputs": [
    {
     "name": "stdout",
     "output_type": "stream",
     "text": [
      "(11, 2)\n",
      "   score  grade\n",
      "0      1    1.0\n",
      "1      5    2.0\n",
      "2      9    3.0\n",
      "3     12    3.0\n",
      "4     18    3.4\n",
      "[    1    25    81   144   324   729  1156  1521  2116  6400 10000]\n",
      "Initial cost 16.196363636363635\n",
      "Founded weights [nan nan nan]\n",
      "Final cost nan\n"
     ]
    },
    {
     "name": "stderr",
     "output_type": "stream",
     "text": [
      "<ipython-input-4-9144fe6bf193>:25: RuntimeWarning: overflow encountered in square\n",
      "  J = np.sum((X.dot(B) - Y) ** 2)/(2 * m)\n",
      "C:\\Users\\denst\\anaconda3\\lib\\site-packages\\numpy\\core\\fromnumeric.py:87: RuntimeWarning: overflow encountered in reduce\n",
      "  return ufunc.reduce(obj, axis, dtype, out, **passkwargs)\n",
      "<ipython-input-4-9144fe6bf193>:43: RuntimeWarning: invalid value encountered in subtract\n",
      "  B = B - alpha * gradient\n"
     ]
    }
   ],
   "source": [
    "data = pd.read_csv('grades.csv')\n",
    "print(data.shape)\n",
    "print(data.head())\n",
    "\n",
    "score = data['score'].values\n",
    "grade = data['grade'].values\n",
    "\n",
    "print(np.power(score, 2))\n",
    "\n",
    "# plot regression dataset\n",
    "# plt.scatter(score,grade)\n",
    "# plt.show()\n",
    "\n",
    "m = len(score)\n",
    "x0 = np.ones(m)\n",
    "X = np.array([x0, score, np.power(score,2)]).T\n",
    "\n",
    "# Initial Coefficients\n",
    "B = np.array([0, 0, 0])\n",
    "Y = np.array(grade)\n",
    "alpha = 0.0001\n",
    "\n",
    "def cost_function(X, Y, B):\n",
    "    m = len(Y)\n",
    "    J = np.sum((X.dot(B) - Y) ** 2)/(2 * m)\n",
    "    return J\n",
    "\n",
    "inital_cost = cost_function(X, Y, B)\n",
    "print(\"Initial cost\",inital_cost)\n",
    "\n",
    "def gradient_descent(X, Y, B, alpha, iterations):\n",
    "    cost_history = [0] * iterations\n",
    "    m = len(Y)\n",
    "    \n",
    "    for iteration in range(iterations):\n",
    "        # Hypothesis Values\n",
    "        h = X.dot(B)\n",
    "        # Difference b/w Hypothesis and Actual Y\n",
    "        loss = h - Y\n",
    "        # Gradient Calculation\n",
    "        gradient = X.T.dot(loss) / m\n",
    "        # Changing Values of B using Gradient\n",
    "        B = B - alpha * gradient\n",
    "        # New Cost Value\n",
    "        cost = cost_function(X, Y, B)\n",
    "        cost_history[iteration] = cost\n",
    "        \n",
    "    return B, cost_history\n",
    "\n",
    "# 100000 Iterations\n",
    "newB, cost_history = gradient_descent(X, Y, B, alpha, 1000)\n",
    "\n",
    "# New Values of B\n",
    "print(\"Founded weights\",newB)\n",
    "\n",
    "# Final Cost of new B\n",
    "print(\"Final cost\",cost_history[-1])\n",
    "\n",
    "\n",
    "# draw linear regression\n",
    "# def linreg(x):\n",
    "#     return newB[0] + newB[1] * x + newB[2] * np.sqrt(x)\n",
    "\n",
    "# x = np.arange(0, 100, 1)\n",
    "# plt.scatter(score, grade)\n",
    "# plt.plot(x, linreg(x), 'r')\n",
    "# plt.show()"
   ]
  },
  {
   "cell_type": "code",
   "execution_count": 5,
   "metadata": {},
   "outputs": [
    {
     "name": "stdout",
     "output_type": "stream",
     "text": [
      "3.8.5 (default, Sep  3 2020, 21:29:08) [MSC v.1916 64 bit (AMD64)]\n",
      "(11, 2)\n",
      "   score  grade\n",
      "0      1    1.0\n",
      "1      5    2.0\n",
      "2      9    3.0\n",
      "3     12    3.0\n",
      "4     18    3.4\n",
      "Initial cost 16.196363636363635\n",
      "Time 0.39095306396484375\n",
      "Founded weights [0.26031898 0.02579528 0.74298631]\n",
      "Final cost 0.038007217700515954\n"
     ]
    },
    {
     "data": {
      "image/png": "[encoded data removed]",
      "text/plain": [
       "<Figure size 432x288 with 1 Axes>"
      ]
     },
     "metadata": {
      "needs_background": "light"
     },
     "output_type": "display_data"
    }
   ],
   "source": [
    "import sys\n",
    "print(sys.version)\n",
    "\n",
    "import numpy as np\n",
    "import pandas as pd\n",
    "import time\n",
    "import math\n",
    "import matplotlib.pyplot as plt\n",
    "\n",
    "data = pd.read_csv('grades.csv')\n",
    "print(data.shape)\n",
    "print(data.head())\n",
    "\n",
    "score = data['score'].values\n",
    "grade = data['grade'].values\n",
    "\n",
    "# plot regression dataset\n",
    "plt.scatter(score,grade)\n",
    "plt.show()\n",
    "\n",
    "m = len(score)\n",
    "x0 = np.ones(m)\n",
    "X = np.array([x0, score, np.sqrt(score)]).T\n",
    "\n",
    "# Initial Coefficients\n",
    "B = np.array([0, 0, 0])\n",
    "Y = np.array(grade)\n",
    "alpha = 0.0001\n",
    "\n",
    "def cost_function(X, Y, B):\n",
    "    m = len(Y)\n",
    "    J = np.sum((X.dot(B) - Y) ** 2)/(2 * m)\n",
    "    return J\n",
    "\n",
    "inital_cost = cost_function(X, Y, B)\n",
    "print(\"Initial cost\",inital_cost)\n",
    "\n",
    "def gradient_descent(X, Y, B, alpha, iterations):\n",
    "    cost_history = [0] * iterations\n",
    "    m = len(Y)\n",
    "    \n",
    "    for iteration in range(iterations):\n",
    "        # Hypothesis Values\n",
    "        h = X.dot(B)\n",
    "        # Difference b/w Hypothesis and Actual Y\n",
    "        loss = h - Y\n",
    "        # Gradient Calculation\n",
    "        gradient = X.T.dot(loss) / m\n",
    "        # Changing Values of B using Gradient\n",
    "        B = B - alpha * gradient\n",
    "        # New Cost Value\n",
    "        cost = cost_function(X, Y, B)\n",
    "        cost_history[iteration] = cost\n",
    "        \n",
    "    return B, cost_history\n",
    "\n",
    "# 100000 Iterations\n",
    "\n",
    "st_time = time.time()\n",
    "newB, cost_history = gradient_descent(X, Y, B, alpha, 10000)\n",
    "print(\"Time\",time.time() - st_time)\n",
    "\n",
    "# New Values of B\n",
    "print(\"Founded weights\",newB)\n",
    "\n",
    "# Final Cost of new B\n",
    "print(\"Final cost\",cost_history[-1])\n",
    "\n",
    "\n",
    "# draw linear regression\n",
    "def linreg(x):\n",
    "    return newB[0] + newB[1] * x + newB[2] * np.sqrt(x)\n",
    "\n",
    "x = np.arange(0, 100, 1)\n",
    "plt.scatter(score, grade)\n",
    "plt.plot(x, linreg(x), 'r')\n",
    "plt.show()"
   ]
  },
  {
   "cell_type": "code",
   "execution_count": 5,
   "metadata": {},
   "outputs": [
    {
     "name": "stdout",
     "output_type": "stream",
     "text": [
      "3.8.5 (default, Sep  3 2020, 21:29:08) [MSC v.1916 64 bit (AMD64)]\n",
      "(11, 2)\n",
      "   score  grade\n",
      "0      1    1.0\n",
      "1      5    2.0\n",
      "2      9    3.0\n",
      "3     12    3.0\n",
      "4     18    3.4\n",
      "Time 0.015957355499267578\n",
      "[0.00212984 0.01349681 0.87755403]\n",
      "Final cost 0.03365339391113087\n"
     ]
    },
    {
     "data": {
      "image/png": "[encoded data removed]",
      "text/plain": [
       "<Figure size 432x288 with 1 Axes>"
      ]
     },
     "metadata": {
      "needs_background": "light"
     },
     "output_type": "display_data"
    }
   ],
   "source": [
    "import sys\n",
    "print(sys.version)\n",
    "\n",
    "import time\n",
    "import numpy as np\n",
    "import pandas as pd\n",
    "import matplotlib.pyplot as plt\n",
    "# plt.rcParams['figure.figsize'] = (20.0, 10.0)\n",
    "# from mpl_toolkits.mplot3d import Axes3D\n",
    "\n",
    "data = pd.read_csv('grades.csv')\n",
    "print(data.shape)\n",
    "print(data.head())\n",
    "\n",
    "score = data['score'].values\n",
    "grade = data['grade'].values\n",
    "\n",
    "# plot regression dataset\n",
    "# plt.scatter(score,grade)\n",
    "# plt.show()\n",
    "m = len(score)\n",
    "\n",
    "x0 = np.ones(m)\n",
    "X = np.array([x0, score, np.sqrt(score)]).T\n",
    "Y = np.array(grade)\n",
    "\n",
    "st_time = time.time()\n",
    "newB = np.linalg.inv(X.T.dot(X)).dot(X.T).dot(Y)\n",
    "print(\"Time\",time.time() - st_time)\n",
    "\n",
    "print(newB)\n",
    "\n",
    "def cost_function(X, Y, B):\n",
    "    m = len(Y)\n",
    "    J = np.sum((X.dot(B) - Y) ** 2)/(2 * m)\n",
    "    return J\n",
    "\n",
    "inital_cost = cost_function(X, Y, newB)\n",
    "print(\"Final cost\",inital_cost)\n",
    "\n",
    "\n",
    "# draw linear regression\n",
    "def linreg(x):\n",
    "    return newB[0] + newB[1] * x + newB[2] * np.sqrt(x)\n",
    "\n",
    "x = np.arange(0, 100, 1)\n",
    "plt.scatter(score, grade)\n",
    "plt.plot(x, linreg(x), 'r')\n",
    "plt.show()"
   ]
  },
  {
   "cell_type": "code",
   "execution_count": null,
   "metadata": {},
   "outputs": [],
   "source": []
  }
 ],
 "metadata": {
  "kernelspec": {
   "display_name": "Python 3",
   "language": "python",
   "name": "python3"
  },
  "language_info": {
   "codemirror_mode": {
    "name": "ipython",
    "version": 3
   },
   "file_extension": ".py",
   "mimetype": "text/x-python",
   "name": "python",
   "nbconvert_exporter": "python",
   "pygments_lexer": "ipython3",
   "version": "3.8.5"
  }
 },
 "nbformat": 4,
 "nbformat_minor": 4
}
