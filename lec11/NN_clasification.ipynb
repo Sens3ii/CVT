{
 "cells": [
  {
   "cell_type": "code",
   "execution_count": 10,
   "metadata": {
    "executionInfo": {
     "elapsed": 2034,
     "status": "ok",
     "timestamp": 1619532187458,
     "user": {
      "displayName": "Kairat Aitpayev",
      "photoUrl": "https://lh3.googleusercontent.com/a-/AOh14GhWi5bUJ3BNvGonF7sg5ZyTQ4hocidja3JRYD4jxQ=s64",
      "userId": "13103495174731361421"
     },
     "user_tz": -360
    },
    "id": "z7DECLJRo-0M"
   },
   "outputs": [],
   "source": [
    "import numpy as np\n",
    "from sklearn import datasets, linear_model\n",
    "import matplotlib.pyplot as plt"
   ]
  },
  {
   "cell_type": "code",
   "execution_count": 11,
   "metadata": {
    "executionInfo": {
     "elapsed": 712,
     "status": "ok",
     "timestamp": 1619532184473,
     "user": {
      "displayName": "Kairat Aitpayev",
      "photoUrl": "https://lh3.googleusercontent.com/a-/AOh14GhWi5bUJ3BNvGonF7sg5ZyTQ4hocidja3JRYD4jxQ=s64",
      "userId": "13103495174731361421"
     },
     "user_tz": -360
    },
    "id": "ckHHk0mao4Ls"
   },
   "outputs": [],
   "source": [
    "def generate_data():\n",
    "    np.random.seed(0)\n",
    "    X, y = datasets.make_moons(300, noise=0.20)\n",
    "    return X, y"
   ]
  },
  {
   "cell_type": "code",
   "execution_count": 12,
   "metadata": {
    "executionInfo": {
     "elapsed": 794,
     "status": "ok",
     "timestamp": 1619532212157,
     "user": {
      "displayName": "Kairat Aitpayev",
      "photoUrl": "https://lh3.googleusercontent.com/a-/AOh14GhWi5bUJ3BNvGonF7sg5ZyTQ4hocidja3JRYD4jxQ=s64",
      "userId": "13103495174731361421"
     },
     "user_tz": -360
    },
    "id": "xsm3Q8-hpA3r"
   },
   "outputs": [],
   "source": [
    "def visualize(X, y, model):\n",
    "    # plt.scatter(X[:, 0], X[:, 1], s=40, c=y, cmap=plt.cm.Spectral)\n",
    "    # plt.show()\n",
    "    plot_decision_boundary(lambda x:predict(model,x), X, y)\n",
    "    plt.title(\"Neural Network\")"
   ]
  },
  {
   "cell_type": "code",
   "execution_count": 13,
   "metadata": {
    "executionInfo": {
     "elapsed": 746,
     "status": "ok",
     "timestamp": 1619532212512,
     "user": {
      "displayName": "Kairat Aitpayev",
      "photoUrl": "https://lh3.googleusercontent.com/a-/AOh14GhWi5bUJ3BNvGonF7sg5ZyTQ4hocidja3JRYD4jxQ=s64",
      "userId": "13103495174731361421"
     },
     "user_tz": -360
    },
    "id": "Z1UFl67cpA0-"
   },
   "outputs": [],
   "source": [
    "def plot_decision_boundary(pred_func, X, y):\n",
    "    # Set min and max values and give it some padding\n",
    "    x_min, x_max = X[:, 0].min() - .5, X[:, 0].max() + .5\n",
    "    y_min, y_max = X[:, 1].min() - .5, X[:, 1].max() + .5\n",
    "    h = 0.01\n",
    "    # Generate a grid of points with distance h between them\n",
    "    xx, yy = np.meshgrid(np.arange(x_min, x_max, h), np.arange(y_min, y_max, h))\n",
    "    # Predict the function value for the whole gid\n",
    "    Z = pred_func(np.c_[xx.ravel(), yy.ravel()])\n",
    "    Z = Z.reshape(xx.shape)\n",
    "    # Plot the contour and training examples\n",
    "    plt.contourf(xx, yy, Z, cmap=plt.cm.Spectral)\n",
    "    plt.scatter(X[:, 0], X[:, 1], c=y, cmap=plt.cm.Spectral)\n",
    "    plt.show()"
   ]
  },
  {
   "cell_type": "code",
   "execution_count": 14,
   "metadata": {
    "executionInfo": {
     "elapsed": 1045,
     "status": "ok",
     "timestamp": 1619532222357,
     "user": {
      "displayName": "Kairat Aitpayev",
      "photoUrl": "https://lh3.googleusercontent.com/a-/AOh14GhWi5bUJ3BNvGonF7sg5ZyTQ4hocidja3JRYD4jxQ=s64",
      "userId": "13103495174731361421"
     },
     "user_tz": -360
    },
    "id": "FD8r2DzXpAyM"
   },
   "outputs": [],
   "source": [
    "# Helper function to evaluate the total loss on the dataset\n",
    "def calculate_loss(model, X, y):\n",
    "    num_examples = len(X)  # training set size\n",
    "    W1, b1, W2, b2 = model['W1'], model['b1'], model['W2'], model['b2']\n",
    "    # Forward propagation to calculate our predictions\n",
    "    z1 = X.dot(W1) + b1\n",
    "    a1 = np.tanh(z1)\n",
    "    z2 = a1.dot(W2) + b2\n",
    "    exp_scores = np.exp(z2)\n",
    "    probs = exp_scores / np.sum(exp_scores, axis=1, keepdims=True)\n",
    "    # Calculating the loss\n",
    "    corect_logprobs = -np.log(probs[range(num_examples), y])\n",
    "    data_loss = np.sum(corect_logprobs)\n",
    "    # Add regulatization term to loss (optional)\n",
    "    data_loss += Config.reg_lambda / 2 * (np.sum(np.square(W1)) + np.sum(np.square(W2)))\n",
    "    return 1. / num_examples * data_loss"
   ]
  },
  {
   "cell_type": "code",
   "execution_count": 15,
   "metadata": {
    "executionInfo": {
     "elapsed": 685,
     "status": "ok",
     "timestamp": 1619532230265,
     "user": {
      "displayName": "Kairat Aitpayev",
      "photoUrl": "https://lh3.googleusercontent.com/a-/AOh14GhWi5bUJ3BNvGonF7sg5ZyTQ4hocidja3JRYD4jxQ=s64",
      "userId": "13103495174731361421"
     },
     "user_tz": -360
    },
    "id": "7D9A2upvpAvb"
   },
   "outputs": [],
   "source": [
    "def predict(model, x):\n",
    "    W1, b1, W2, b2 = model['W1'], model['b1'], model['W2'], model['b2']\n",
    "    # Forward propagation\n",
    "    z1 = x.dot(W1) + b1\n",
    "    a1 = np.tanh(z1)\n",
    "    z2 = a1.dot(W2) + b2\n",
    "    exp_scores = np.exp(z2)\n",
    "    probs = exp_scores / np.sum(exp_scores, axis=1, keepdims=True)\n",
    "    return np.argmax(probs, axis=1)"
   ]
  },
  {
   "cell_type": "code",
   "execution_count": 16,
   "metadata": {
    "executionInfo": {
     "elapsed": 946,
     "status": "ok",
     "timestamp": 1619532282714,
     "user": {
      "displayName": "Kairat Aitpayev",
      "photoUrl": "https://lh3.googleusercontent.com/a-/AOh14GhWi5bUJ3BNvGonF7sg5ZyTQ4hocidja3JRYD4jxQ=s64",
      "userId": "13103495174731361421"
     },
     "user_tz": -360
    },
    "id": "pWE6HaP0pW3X"
   },
   "outputs": [],
   "source": [
    "class Config:\n",
    "    nn_input_dim = 2  # input layer dimensionality\n",
    "    nn_output_dim = 2  # output layer dimensionality\n",
    "    # Gradient descent parameters (I picked these by hand)\n",
    "    epsilon = 0.01  # learning rate for gradient descent\n",
    "    reg_lambda = 0.01  # regularization strength"
   ]
  },
  {
   "cell_type": "code",
   "execution_count": 17,
   "metadata": {
    "executionInfo": {
     "elapsed": 812,
     "status": "ok",
     "timestamp": 1619532243983,
     "user": {
      "displayName": "Kairat Aitpayev",
      "photoUrl": "https://lh3.googleusercontent.com/a-/AOh14GhWi5bUJ3BNvGonF7sg5ZyTQ4hocidja3JRYD4jxQ=s64",
      "userId": "13103495174731361421"
     },
     "user_tz": -360
    },
    "id": "SygMf9gcpAse"
   },
   "outputs": [],
   "source": [
    "# This function learns parameters for the neural network and returns the model.\n",
    "# - nn_hdim: Number of nodes in the hidden layer\n",
    "# - num_passes: Number of passes through the training data for gradient descent\n",
    "# - print_loss: If True, print the loss every 1000 iterations\n",
    "def build_model(X, y, nn_hdim, num_passes=20000, print_loss=False):\n",
    "    # Initialize the parameters to random values. We need to learn these.\n",
    "    num_examples = len(X)\n",
    "    np.random.seed(0)\n",
    "    W1 = np.random.randn(Config.nn_input_dim, nn_hdim) / np.sqrt(Config.nn_input_dim)\n",
    "    b1 = np.zeros((1, nn_hdim))\n",
    "    W2 = np.random.randn(nn_hdim, Config.nn_output_dim) / np.sqrt(nn_hdim)\n",
    "    b2 = np.zeros((1, Config.nn_output_dim))\n",
    "\n",
    "    # This is what we return at the end\n",
    "    model = {}\n",
    "\n",
    "    # Gradient descent. For each batch...\n",
    "    for i in range(0, num_passes):\n",
    "\n",
    "        # Forward propagation\n",
    "        z1 = X.dot(W1) + b1\n",
    "        a1 = np.tanh(z1)\n",
    "        z2 = a1.dot(W2) + b2\n",
    "        exp_scores = np.exp(z2)\n",
    "        probs = exp_scores / np.sum(exp_scores, axis=1, keepdims=True)\n",
    "\n",
    "        # Backpropagation\n",
    "        delta3 = probs\n",
    "        delta3[range(num_examples), y] -= 1\n",
    "        dW2 = (a1.T).dot(delta3)\n",
    "        db2 = np.sum(delta3, axis=0, keepdims=True)\n",
    "        delta2 = delta3.dot(W2.T) * (1 - np.power(a1, 2))\n",
    "        dW1 = np.dot(X.T, delta2)\n",
    "        db1 = np.sum(delta2, axis=0)\n",
    "\n",
    "        # Add regularization terms (b1 and b2 don't have regularization terms)\n",
    "        dW2 += Config.reg_lambda * W2\n",
    "        dW1 += Config.reg_lambda * W1\n",
    "\n",
    "        # Gradient descent parameter update\n",
    "        W1 += -Config.epsilon * dW1\n",
    "        b1 += -Config.epsilon * db1\n",
    "        W2 += -Config.epsilon * dW2\n",
    "        b2 += -Config.epsilon * db2\n",
    "\n",
    "        # Assign new parameters to the model\n",
    "        model = {'W1': W1, 'b1': b1, 'W2': W2, 'b2': b2}\n",
    "\n",
    "        # Optionally print the loss.\n",
    "        # This is expensive because it uses the whole dataset, so we don't want to do it too often.\n",
    "        if print_loss and i % 500 == 0:\n",
    "            print(\"Loss after iteration %i: %f\" % (i, calculate_loss(model, X, y)))\n",
    "\n",
    "    return model"
   ]
  },
  {
   "cell_type": "code",
   "execution_count": 18,
   "metadata": {
    "colab": {
     "base_uri": "https://localhost:8080/",
     "height": 869
    },
    "executionInfo": {
     "elapsed": 5415,
     "status": "ok",
     "timestamp": 1619532376489,
     "user": {
      "displayName": "Kairat Aitpayev",
      "photoUrl": "https://lh3.googleusercontent.com/a-/AOh14GhWi5bUJ3BNvGonF7sg5ZyTQ4hocidja3JRYD4jxQ=s64",
      "userId": "13103495174731361421"
     },
     "user_tz": -360
    },
    "id": "4VgtQLAEpsNf",
    "outputId": "475a3427-24a2-406f-a8b9-cde66d130763"
   },
   "outputs": [
    {
     "name": "stdout",
     "output_type": "stream",
     "text": [
      "Loss after iteration 0: 0.381135\n",
      "Loss after iteration 500: 0.071815\n",
      "Loss after iteration 1000: 0.065193\n",
      "Loss after iteration 1500: 0.063760\n",
      "Loss after iteration 2000: 0.061929\n",
      "Loss after iteration 2500: 0.063397\n",
      "Loss after iteration 3000: 0.061893\n",
      "Loss after iteration 3500: 0.063513\n",
      "Loss after iteration 4000: 0.062402\n",
      "Loss after iteration 4500: 0.063242\n",
      "Loss after iteration 5000: 0.062002\n",
      "Loss after iteration 5500: 0.063070\n",
      "Loss after iteration 6000: 0.062196\n",
      "Loss after iteration 6500: 0.064051\n",
      "Loss after iteration 7000: 0.062972\n",
      "Loss after iteration 7500: 0.063712\n",
      "Loss after iteration 8000: 0.062656\n",
      "Loss after iteration 8500: 0.061843\n",
      "Loss after iteration 9000: 0.062858\n",
      "Loss after iteration 9500: 0.062022\n",
      "Loss after iteration 10000: 0.063315\n",
      "Loss after iteration 10500: 0.062060\n",
      "Loss after iteration 11000: 0.063417\n",
      "Loss after iteration 11500: 0.062419\n",
      "Loss after iteration 12000: 0.065922\n",
      "Loss after iteration 12500: 0.062131\n",
      "Loss after iteration 13000: 0.063806\n",
      "Loss after iteration 13500: 0.062149\n",
      "Loss after iteration 14000: 0.063311\n",
      "Loss after iteration 14500: 0.062118\n",
      "Loss after iteration 15000: 0.062923\n",
      "Loss after iteration 15500: 0.062045\n",
      "Loss after iteration 16000: 0.062911\n",
      "Loss after iteration 16500: 0.063854\n",
      "Loss after iteration 17000: 0.062326\n",
      "Loss after iteration 17500: 0.064032\n",
      "Loss after iteration 18000: 0.062896\n",
      "Loss after iteration 18500: 0.062030\n",
      "Loss after iteration 19000: 0.063127\n",
      "Loss after iteration 19500: 0.062035\n"
     ]
    },
    {
     "data": {
      "image/png": "[encoded data removed]",
      "text/plain": [
       "<Figure size 432x288 with 1 Axes>"
      ]
     },
     "metadata": {
      "needs_background": "light"
     },
     "output_type": "display_data"
    },
    {
     "data": {
      "image/png": "[encoded data removed]",
      "text/plain": [
       "<Figure size 432x288 with 1 Axes>"
      ]
     },
     "metadata": {
      "needs_background": "light"
     },
     "output_type": "display_data"
    }
   ],
   "source": [
    "X, y = generate_data()\n",
    "model = build_model(X, y, 3, print_loss=True)\n",
    "visualize(X, y, model)"
   ]
  },
  {
   "cell_type": "code",
   "execution_count": 22,
   "metadata": {
    "colab": {
     "base_uri": "https://localhost:8080/",
     "height": 869
    },
    "executionInfo": {
     "elapsed": 6124,
     "status": "ok",
     "timestamp": 1619532523743,
     "user": {
      "displayName": "Kairat Aitpayev",
      "photoUrl": "https://lh3.googleusercontent.com/a-/AOh14GhWi5bUJ3BNvGonF7sg5ZyTQ4hocidja3JRYD4jxQ=s64",
      "userId": "13103495174731361421"
     },
     "user_tz": -360
    },
    "id": "jPCpoRmko-JQ",
    "outputId": "6df5da5c-d94b-42df-e9b0-d329a3901688"
   },
   "outputs": [
    {
     "name": "stdout",
     "output_type": "stream",
     "text": [
      "Loss after iteration 0: 0.375110\n",
      "Loss after iteration 500: 0.056160\n",
      "Loss after iteration 1000: 0.051517\n",
      "Loss after iteration 1500: 0.046184\n",
      "Loss after iteration 2000: 0.041900\n",
      "Loss after iteration 2500: 0.040159\n",
      "Loss after iteration 3000: 0.038383\n",
      "Loss after iteration 3500: 0.037091\n",
      "Loss after iteration 4000: 0.035956\n",
      "Loss after iteration 4500: 0.034995\n"
     ]
    },
    {
     "data": {
      "image/png": "[encoded data removed]",
      "text/plain": [
       "<Figure size 432x288 with 1 Axes>"
      ]
     },
     "metadata": {
      "needs_background": "light"
     },
     "output_type": "display_data"
    },
    {
     "data": {
      "image/png": "[encoded data removed]",
      "text/plain": [
       "<Figure size 432x288 with 1 Axes>"
      ]
     },
     "metadata": {
      "needs_background": "light"
     },
     "output_type": "display_data"
    }
   ],
   "source": [
    "X, y = generate_data()\n",
    "model = build_model(X, y, 7, num_passes=5000,print_loss=True)\n",
    "visualize(X, y, model)"
   ]
  },
  {
   "cell_type": "code",
   "execution_count": null,
   "metadata": {
    "id": "Kk1I2zjRpPyG"
   },
   "outputs": [],
   "source": []
  }
 ],
 "metadata": {
  "colab": {
   "authorship_tag": "ABX9TyO0D89qWmt1gyT0TahOOxYO",
   "name": "NN_clasification.ipynb",
   "provenance": []
  },
  "kernelspec": {
   "display_name": "Python 3",
   "language": "python",
   "name": "python3"
  },
  "language_info": {
   "codemirror_mode": {
    "name": "ipython",
    "version": 3
   },
   "file_extension": ".py",
   "mimetype": "text/x-python",
   "name": "python",
   "nbconvert_exporter": "python",
   "pygments_lexer": "ipython3",
   "version": "3.8.5"
  }
 },
 "nbformat": 4,
 "nbformat_minor": 4
}
