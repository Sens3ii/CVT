{
 "cells": [
  {
   "cell_type": "code",
   "execution_count": 12,
   "metadata": {
    "colab": {
     "base_uri": "https://localhost:8080/"
    },
    "executionInfo": {
     "elapsed": 1401,
     "status": "ok",
     "timestamp": 1617112891694,
     "user": {
      "displayName": "Kairat Aitpayev",
      "photoUrl": "https://lh3.googleusercontent.com/a-/AOh14GhWi5bUJ3BNvGonF7sg5ZyTQ4hocidja3JRYD4jxQ=s64",
      "userId": "13103495174731361421"
     },
     "user_tz": -360
    },
    "id": "kd5YK2TNZWhy",
    "outputId": "b999137c-db06-47a0-ab18-8bdee7ff0447"
   },
   "outputs": [
    {
     "name": "stdout",
     "output_type": "stream",
     "text": [
      "3.8.5 (default, Sep  3 2020, 21:29:08) [MSC v.1916 64 bit (AMD64)]\n"
     ]
    }
   ],
   "source": [
    "import sys\n",
    "print(sys.version)"
   ]
  },
  {
   "cell_type": "code",
   "execution_count": 13,
   "metadata": {
    "executionInfo": {
     "elapsed": 1703,
     "status": "ok",
     "timestamp": 1617112920247,
     "user": {
      "displayName": "Kairat Aitpayev",
      "photoUrl": "https://lh3.googleusercontent.com/a-/AOh14GhWi5bUJ3BNvGonF7sg5ZyTQ4hocidja3JRYD4jxQ=s64",
      "userId": "13103495174731361421"
     },
     "user_tz": -360
    },
    "id": "Y8Pj-58PZcCo"
   },
   "outputs": [],
   "source": [
    "import numpy as np\n",
    "import pandas as pd\n",
    "import matplotlib.pyplot as plt"
   ]
  },
  {
   "cell_type": "code",
   "execution_count": 14,
   "metadata": {
    "colab": {
     "base_uri": "https://localhost:8080/"
    },
    "executionInfo": {
     "elapsed": 1571,
     "status": "ok",
     "timestamp": 1617112936423,
     "user": {
      "displayName": "Kairat Aitpayev",
      "photoUrl": "https://lh3.googleusercontent.com/a-/AOh14GhWi5bUJ3BNvGonF7sg5ZyTQ4hocidja3JRYD4jxQ=s64",
      "userId": "13103495174731361421"
     },
     "user_tz": -360
    },
    "id": "6Xyeanr7Zb_g",
    "outputId": "78075db5-f6d3-43dd-b72f-d9612e17e059"
   },
   "outputs": [
    {
     "name": "stdout",
     "output_type": "stream",
     "text": [
      "(1000, 3)\n",
      "   Math  Reading  Writing\n",
      "0    48       68       63\n",
      "1    62       81       72\n",
      "2    79       80       78\n",
      "3    76       83       79\n",
      "4    59       64       62\n"
     ]
    }
   ],
   "source": [
    "data = pd.read_csv('student.csv')\n",
    "print(data.shape)\n",
    "print(data.head())"
   ]
  },
  {
   "cell_type": "code",
   "execution_count": 16,
   "metadata": {
    "executionInfo": {
     "elapsed": 891,
     "status": "ok",
     "timestamp": 1617113035206,
     "user": {
      "displayName": "Kairat Aitpayev",
      "photoUrl": "https://lh3.googleusercontent.com/a-/AOh14GhWi5bUJ3BNvGonF7sg5ZyTQ4hocidja3JRYD4jxQ=s64",
      "userId": "13103495174731361421"
     },
     "user_tz": -360
    },
    "id": "UyRtsm3rZb8d"
   },
   "outputs": [
    {
     "name": "stdout",
     "output_type": "stream",
     "text": [
      "[48 62 79 76 59 69 70 46 61 86]\n"
     ]
    }
   ],
   "source": [
    "math = data['Math'].values\n",
    "read = data['Reading'].values\n",
    "write = data['Writing'].values\n",
    "print(math[0:10])"
   ]
  },
  {
   "cell_type": "code",
   "execution_count": 17,
   "metadata": {
    "executionInfo": {
     "elapsed": 837,
     "status": "ok",
     "timestamp": 1617113066875,
     "user": {
      "displayName": "Kairat Aitpayev",
      "photoUrl": "https://lh3.googleusercontent.com/a-/AOh14GhWi5bUJ3BNvGonF7sg5ZyTQ4hocidja3JRYD4jxQ=s64",
      "userId": "13103495174731361421"
     },
     "user_tz": -360
    },
    "id": "vKtf_yZiZb5T"
   },
   "outputs": [
    {
     "name": "stdout",
     "output_type": "stream",
     "text": [
      "1000\n",
      "[1. 1. 1. 1. 1. 1. 1. 1. 1. 1. 1. 1. 1. 1. 1. 1. 1. 1. 1. 1. 1. 1. 1. 1.\n",
      " 1. 1. 1. 1. 1. 1. 1. 1. 1. 1. 1. 1. 1. 1. 1. 1. 1. 1. 1. 1. 1. 1. 1. 1.\n",
      " 1. 1. 1. 1. 1. 1. 1. 1. 1. 1. 1. 1. 1. 1. 1. 1. 1. 1. 1. 1. 1. 1. 1. 1.\n",
      " 1. 1. 1. 1. 1. 1. 1. 1. 1. 1. 1. 1. 1. 1. 1. 1. 1. 1. 1. 1. 1. 1. 1. 1.\n",
      " 1. 1. 1. 1. 1. 1. 1. 1. 1. 1. 1. 1. 1. 1. 1. 1. 1. 1. 1. 1. 1. 1. 1. 1.\n",
      " 1. 1. 1. 1. 1. 1. 1. 1. 1. 1. 1. 1. 1. 1. 1. 1. 1. 1. 1. 1. 1. 1. 1. 1.\n",
      " 1. 1. 1. 1. 1. 1. 1. 1. 1. 1. 1. 1. 1. 1. 1. 1. 1. 1. 1. 1. 1. 1. 1. 1.\n",
      " 1. 1. 1. 1. 1. 1. 1. 1. 1. 1. 1. 1. 1. 1. 1. 1. 1. 1. 1. 1. 1. 1. 1. 1.\n",
      " 1. 1. 1. 1. 1. 1. 1. 1. 1. 1. 1. 1. 1. 1. 1. 1. 1. 1. 1. 1. 1. 1. 1. 1.\n",
      " 1. 1. 1. 1. 1. 1. 1. 1. 1. 1. 1. 1. 1. 1. 1. 1. 1. 1. 1. 1. 1. 1. 1. 1.\n",
      " 1. 1. 1. 1. 1. 1. 1. 1. 1. 1. 1. 1. 1. 1. 1. 1. 1. 1. 1. 1. 1. 1. 1. 1.\n",
      " 1. 1. 1. 1. 1. 1. 1. 1. 1. 1. 1. 1. 1. 1. 1. 1. 1. 1. 1. 1. 1. 1. 1. 1.\n",
      " 1. 1. 1. 1. 1. 1. 1. 1. 1. 1. 1. 1. 1. 1. 1. 1. 1. 1. 1. 1. 1. 1. 1. 1.\n",
      " 1. 1. 1. 1. 1. 1. 1. 1. 1. 1. 1. 1. 1. 1. 1. 1. 1. 1. 1. 1. 1. 1. 1. 1.\n",
      " 1. 1. 1. 1. 1. 1. 1. 1. 1. 1. 1. 1. 1. 1. 1. 1. 1. 1. 1. 1. 1. 1. 1. 1.\n",
      " 1. 1. 1. 1. 1. 1. 1. 1. 1. 1. 1. 1. 1. 1. 1. 1. 1. 1. 1. 1. 1. 1. 1. 1.\n",
      " 1. 1. 1. 1. 1. 1. 1. 1. 1. 1. 1. 1. 1. 1. 1. 1. 1. 1. 1. 1. 1. 1. 1. 1.\n",
      " 1. 1. 1. 1. 1. 1. 1. 1. 1. 1. 1. 1. 1. 1. 1. 1. 1. 1. 1. 1. 1. 1. 1. 1.\n",
      " 1. 1. 1. 1. 1. 1. 1. 1. 1. 1. 1. 1. 1. 1. 1. 1. 1. 1. 1. 1. 1. 1. 1. 1.\n",
      " 1. 1. 1. 1. 1. 1. 1. 1. 1. 1. 1. 1. 1. 1. 1. 1. 1. 1. 1. 1. 1. 1. 1. 1.\n",
      " 1. 1. 1. 1. 1. 1. 1. 1. 1. 1. 1. 1. 1. 1. 1. 1. 1. 1. 1. 1. 1. 1. 1. 1.\n",
      " 1. 1. 1. 1. 1. 1. 1. 1. 1. 1. 1. 1. 1. 1. 1. 1. 1. 1. 1. 1. 1. 1. 1. 1.\n",
      " 1. 1. 1. 1. 1. 1. 1. 1. 1. 1. 1. 1. 1. 1. 1. 1. 1. 1. 1. 1. 1. 1. 1. 1.\n",
      " 1. 1. 1. 1. 1. 1. 1. 1. 1. 1. 1. 1. 1. 1. 1. 1. 1. 1. 1. 1. 1. 1. 1. 1.\n",
      " 1. 1. 1. 1. 1. 1. 1. 1. 1. 1. 1. 1. 1. 1. 1. 1. 1. 1. 1. 1. 1. 1. 1. 1.\n",
      " 1. 1. 1. 1. 1. 1. 1. 1. 1. 1. 1. 1. 1. 1. 1. 1. 1. 1. 1. 1. 1. 1. 1. 1.\n",
      " 1. 1. 1. 1. 1. 1. 1. 1. 1. 1. 1. 1. 1. 1. 1. 1. 1. 1. 1. 1. 1. 1. 1. 1.\n",
      " 1. 1. 1. 1. 1. 1. 1. 1. 1. 1. 1. 1. 1. 1. 1. 1. 1. 1. 1. 1. 1. 1. 1. 1.\n",
      " 1. 1. 1. 1. 1. 1. 1. 1. 1. 1. 1. 1. 1. 1. 1. 1. 1. 1. 1. 1. 1. 1. 1. 1.\n",
      " 1. 1. 1. 1. 1. 1. 1. 1. 1. 1. 1. 1. 1. 1. 1. 1. 1. 1. 1. 1. 1. 1. 1. 1.\n",
      " 1. 1. 1. 1. 1. 1. 1. 1. 1. 1. 1. 1. 1. 1. 1. 1. 1. 1. 1. 1. 1. 1. 1. 1.\n",
      " 1. 1. 1. 1. 1. 1. 1. 1. 1. 1. 1. 1. 1. 1. 1. 1. 1. 1. 1. 1. 1. 1. 1. 1.\n",
      " 1. 1. 1. 1. 1. 1. 1. 1. 1. 1. 1. 1. 1. 1. 1. 1. 1. 1. 1. 1. 1. 1. 1. 1.\n",
      " 1. 1. 1. 1. 1. 1. 1. 1. 1. 1. 1. 1. 1. 1. 1. 1. 1. 1. 1. 1. 1. 1. 1. 1.\n",
      " 1. 1. 1. 1. 1. 1. 1. 1. 1. 1. 1. 1. 1. 1. 1. 1. 1. 1. 1. 1. 1. 1. 1. 1.\n",
      " 1. 1. 1. 1. 1. 1. 1. 1. 1. 1. 1. 1. 1. 1. 1. 1. 1. 1. 1. 1. 1. 1. 1. 1.\n",
      " 1. 1. 1. 1. 1. 1. 1. 1. 1. 1. 1. 1. 1. 1. 1. 1. 1. 1. 1. 1. 1. 1. 1. 1.\n",
      " 1. 1. 1. 1. 1. 1. 1. 1. 1. 1. 1. 1. 1. 1. 1. 1. 1. 1. 1. 1. 1. 1. 1. 1.\n",
      " 1. 1. 1. 1. 1. 1. 1. 1. 1. 1. 1. 1. 1. 1. 1. 1. 1. 1. 1. 1. 1. 1. 1. 1.\n",
      " 1. 1. 1. 1. 1. 1. 1. 1. 1. 1. 1. 1. 1. 1. 1. 1. 1. 1. 1. 1. 1. 1. 1. 1.\n",
      " 1. 1. 1. 1. 1. 1. 1. 1. 1. 1. 1. 1. 1. 1. 1. 1. 1. 1. 1. 1. 1. 1. 1. 1.\n",
      " 1. 1. 1. 1. 1. 1. 1. 1. 1. 1. 1. 1. 1. 1. 1. 1.]\n",
      "[[ 1. 48. 68.]\n",
      " [ 1. 62. 81.]\n",
      " [ 1. 79. 80.]\n",
      " ...\n",
      " [ 1. 89. 87.]\n",
      " [ 1. 83. 82.]\n",
      " [ 1. 66. 66.]]\n"
     ]
    }
   ],
   "source": [
    "m = len(math)\n",
    "x0 = np.ones(m)\n",
    "X = np.array([x0, math, read]).T\n",
    "print(m)\n",
    "print(x0)\n",
    "print(X)"
   ]
  },
  {
   "cell_type": "code",
   "execution_count": 18,
   "metadata": {
    "executionInfo": {
     "elapsed": 1013,
     "status": "ok",
     "timestamp": 1617113140652,
     "user": {
      "displayName": "Kairat Aitpayev",
      "photoUrl": "https://lh3.googleusercontent.com/a-/AOh14GhWi5bUJ3BNvGonF7sg5ZyTQ4hocidja3JRYD4jxQ=s64",
      "userId": "13103495174731361421"
     },
     "user_tz": -360
    },
    "id": "KvIBWUN8Zbxb"
   },
   "outputs": [
    {
     "name": "stdout",
     "output_type": "stream",
     "text": [
      "[0 0 0]\n"
     ]
    }
   ],
   "source": [
    "# Initial Coefficients\n",
    "B = np.array([0, 0, 0])\n",
    "Y = np.array(write)\n",
    "alpha = 0.0001\n",
    "print(B)"
   ]
  },
  {
   "cell_type": "code",
   "execution_count": 19,
   "metadata": {
    "executionInfo": {
     "elapsed": 834,
     "status": "ok",
     "timestamp": 1617113170230,
     "user": {
      "displayName": "Kairat Aitpayev",
      "photoUrl": "https://lh3.googleusercontent.com/a-/AOh14GhWi5bUJ3BNvGonF7sg5ZyTQ4hocidja3JRYD4jxQ=s64",
      "userId": "13103495174731361421"
     },
     "user_tz": -360
    },
    "id": "dt3bdyAvcr_7"
   },
   "outputs": [],
   "source": [
    "def cost_function(X, Y, B):\n",
    "    m = len(Y)\n",
    "    J = np.sum((X.dot(B) - Y) ** 2)/(2 * m)\n",
    "    return J"
   ]
  },
  {
   "cell_type": "code",
   "execution_count": 20,
   "metadata": {
    "colab": {
     "base_uri": "https://localhost:8080/"
    },
    "executionInfo": {
     "elapsed": 843,
     "status": "ok",
     "timestamp": 1617113246784,
     "user": {
      "displayName": "Kairat Aitpayev",
      "photoUrl": "https://lh3.googleusercontent.com/a-/AOh14GhWi5bUJ3BNvGonF7sg5ZyTQ4hocidja3JRYD4jxQ=s64",
      "userId": "13103495174731361421"
     },
     "user_tz": -360
    },
    "id": "dGH7sMPQcr8w",
    "outputId": "61e75d4d-1b6b-433a-af2d-b9a7ca1dea3e"
   },
   "outputs": [
    {
     "name": "stdout",
     "output_type": "stream",
     "text": [
      "2470.11\n"
     ]
    }
   ],
   "source": [
    "inital_cost = cost_function(X, Y, B)\n",
    "print(inital_cost)"
   ]
  },
  {
   "cell_type": "code",
   "execution_count": 21,
   "metadata": {
    "executionInfo": {
     "elapsed": 960,
     "status": "ok",
     "timestamp": 1617113377993,
     "user": {
      "displayName": "Kairat Aitpayev",
      "photoUrl": "https://lh3.googleusercontent.com/a-/AOh14GhWi5bUJ3BNvGonF7sg5ZyTQ4hocidja3JRYD4jxQ=s64",
      "userId": "13103495174731361421"
     },
     "user_tz": -360
    },
    "id": "TXkekbMPcr5q"
   },
   "outputs": [],
   "source": [
    "def gradient_descent(X, Y, B, alpha, iterations):\n",
    "    cost_history = [0] * iterations\n",
    "    m = len(Y)\n",
    "    \n",
    "    for iteration in range(iterations):\n",
    "        # Hypothesis Values\n",
    "        h = X.dot(B)\n",
    "        # Difference b/w Hypothesis and Actual Y\n",
    "        loss = h - Y\n",
    "        # Gradient Calculation\n",
    "        gradient = X.T.dot(loss) / m\n",
    "        # Changing Values of B using Gradient\n",
    "        B = B - alpha * gradient\n",
    "        # New Cost Value\n",
    "        cost = cost_function(X, Y, B)\n",
    "        cost_history[iteration] = cost\n",
    "        \n",
    "    return B, cost_history"
   ]
  },
  {
   "cell_type": "code",
   "execution_count": 22,
   "metadata": {
    "executionInfo": {
     "elapsed": 4193,
     "status": "ok",
     "timestamp": 1617113389918,
     "user": {
      "displayName": "Kairat Aitpayev",
      "photoUrl": "https://lh3.googleusercontent.com/a-/AOh14GhWi5bUJ3BNvGonF7sg5ZyTQ4hocidja3JRYD4jxQ=s64",
      "userId": "13103495174731361421"
     },
     "user_tz": -360
    },
    "id": "fpb8lJpzcr2F"
   },
   "outputs": [],
   "source": [
    "# 1000 Iterations\n",
    "newB, cost_history = gradient_descent(X, Y, B, alpha, 1000)"
   ]
  },
  {
   "cell_type": "code",
   "execution_count": 24,
   "metadata": {
    "colab": {
     "base_uri": "https://localhost:8080/"
    },
    "executionInfo": {
     "elapsed": 887,
     "status": "ok",
     "timestamp": 1617113402684,
     "user": {
      "displayName": "Kairat Aitpayev",
      "photoUrl": "https://lh3.googleusercontent.com/a-/AOh14GhWi5bUJ3BNvGonF7sg5ZyTQ4hocidja3JRYD4jxQ=s64",
      "userId": "13103495174731361421"
     },
     "user_tz": -360
    },
    "id": "Y_EKNUe3crzE",
    "outputId": "55a3187e-9d6b-4f67-c21e-9e3807b11adf"
   },
   "outputs": [
    {
     "name": "stdout",
     "output_type": "stream",
     "text": [
      "[0.00274048 0.09441056 0.89189383]\n"
     ]
    }
   ],
   "source": [
    "# New Values of B\n",
    "print(newB)"
   ]
  },
  {
   "cell_type": "code",
   "execution_count": 25,
   "metadata": {
    "colab": {
     "base_uri": "https://localhost:8080/"
    },
    "executionInfo": {
     "elapsed": 843,
     "status": "ok",
     "timestamp": 1617113440413,
     "user": {
      "displayName": "Kairat Aitpayev",
      "photoUrl": "https://lh3.googleusercontent.com/a-/AOh14GhWi5bUJ3BNvGonF7sg5ZyTQ4hocidja3JRYD4jxQ=s64",
      "userId": "13103495174731361421"
     },
     "user_tz": -360
    },
    "id": "NuV7Wzc0eBo5",
    "outputId": "d61e4f09-cff5-4711-eec5-ef7f7dcc8dc0"
   },
   "outputs": [
    {
     "name": "stdout",
     "output_type": "stream",
     "text": [
      "10.500043218864263\n"
     ]
    }
   ],
   "source": [
    "# Final Cost of new B\n",
    "print(cost_history[-1])"
   ]
  },
  {
   "cell_type": "code",
   "execution_count": 26,
   "metadata": {
    "executionInfo": {
     "elapsed": 840,
     "status": "ok",
     "timestamp": 1617113459923,
     "user": {
      "displayName": "Kairat Aitpayev",
      "photoUrl": "https://lh3.googleusercontent.com/a-/AOh14GhWi5bUJ3BNvGonF7sg5ZyTQ4hocidja3JRYD4jxQ=s64",
      "userId": "13103495174731361421"
     },
     "user_tz": -360
    },
    "id": "Zr_4ebrseBmC"
   },
   "outputs": [],
   "source": [
    "# Model Evaluation - RMSE\n",
    "def rmse(Y, Y_pred):\n",
    "    rmse = np.sqrt(sum((Y - Y_pred) ** 2) / len(Y))\n",
    "    return rmse"
   ]
  },
  {
   "cell_type": "code",
   "execution_count": 27,
   "metadata": {
    "executionInfo": {
     "elapsed": 837,
     "status": "ok",
     "timestamp": 1617113475676,
     "user": {
      "displayName": "Kairat Aitpayev",
      "photoUrl": "https://lh3.googleusercontent.com/a-/AOh14GhWi5bUJ3BNvGonF7sg5ZyTQ4hocidja3JRYD4jxQ=s64",
      "userId": "13103495174731361421"
     },
     "user_tz": -360
    },
    "id": "TDIUUCqMeBjF"
   },
   "outputs": [],
   "source": [
    "Y_pred = X.dot(newB)"
   ]
  },
  {
   "cell_type": "code",
   "execution_count": 28,
   "metadata": {
    "colab": {
     "base_uri": "https://localhost:8080/"
    },
    "executionInfo": {
     "elapsed": 833,
     "status": "ok",
     "timestamp": 1617113496873,
     "user": {
      "displayName": "Kairat Aitpayev",
      "photoUrl": "https://lh3.googleusercontent.com/a-/AOh14GhWi5bUJ3BNvGonF7sg5ZyTQ4hocidja3JRYD4jxQ=s64",
      "userId": "13103495174731361421"
     },
     "user_tz": -360
    },
    "id": "isey0Ax3eBfj",
    "outputId": "4823d9d6-3761-4243-88c2-e4e66eb89401"
   },
   "outputs": [
    {
     "name": "stdout",
     "output_type": "stream",
     "text": [
      "4.582585126075514\n"
     ]
    }
   ],
   "source": [
    "print(rmse(Y, Y_pred))"
   ]
  },
  {
   "cell_type": "code",
   "execution_count": 29,
   "metadata": {
    "colab": {
     "base_uri": "https://localhost:8080/",
     "height": 265
    },
    "executionInfo": {
     "elapsed": 1025,
     "status": "ok",
     "timestamp": 1617113549509,
     "user": {
      "displayName": "Kairat Aitpayev",
      "photoUrl": "https://lh3.googleusercontent.com/a-/AOh14GhWi5bUJ3BNvGonF7sg5ZyTQ4hocidja3JRYD4jxQ=s64",
      "userId": "13103495174731361421"
     },
     "user_tz": -360
    },
    "id": "xhZc9llVeBbW",
    "outputId": "89600218-c873-475e-ab6d-1f6e467fb106"
   },
   "outputs": [
    {
     "data": {
      "image/png": "[encoded data removed]",
      "text/plain": [
       "<Figure size 432x288 with 1 Axes>"
      ]
     },
     "metadata": {
      "needs_background": "light"
     },
     "output_type": "display_data"
    }
   ],
   "source": [
    "plt.plot(cost_history[:1000])\n",
    "plt.show()"
   ]
  },
  {
   "cell_type": "code",
   "execution_count": null,
   "metadata": {
    "id": "_F5A1_4yejBp"
   },
   "outputs": [],
   "source": []
  }
 ],
 "metadata": {
  "colab": {
   "authorship_tag": "ABX9TyNboqn6KoOXqq/t24bhXNLC",
   "name": "L7_prac.ipynb",
   "provenance": []
  },
  "kernelspec": {
   "display_name": "Python 3",
   "language": "python",
   "name": "python3"
  },
  "language_info": {
   "codemirror_mode": {
    "name": "ipython",
    "version": 3
   },
   "file_extension": ".py",
   "mimetype": "text/x-python",
   "name": "python",
   "nbconvert_exporter": "python",
   "pygments_lexer": "ipython3",
   "version": "3.8.5"
  }
 },
 "nbformat": 4,
 "nbformat_minor": 4
}
