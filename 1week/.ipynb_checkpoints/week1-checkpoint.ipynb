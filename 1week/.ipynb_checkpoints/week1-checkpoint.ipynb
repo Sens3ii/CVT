{
 "cells": [
  {
   "cell_type": "code",
   "execution_count": 17,
   "metadata": {},
   "outputs": [
    {
     "name": "stdout",
     "output_type": "stream",
     "text": [
      "Modules imported\n"
     ]
    }
   ],
   "source": [
    "import cv2\n",
    "import numpy as np\n",
    "print(\"Modules imported\")"
   ]
  },
  {
   "cell_type": "code",
   "execution_count": 5,
   "metadata": {},
   "outputs": [
    {
     "name": "stdout",
     "output_type": "stream",
     "text": [
      "Image has shown\n"
     ]
    }
   ],
   "source": [
    "try:\n",
    "    img = cv2.imread(\"small.png\")\n",
    "    cv2.imshow(\"Window\",img)\n",
    "    cv2.waitKey(2000)\n",
    "    print(\"Image has shown\")\n",
    "except:\n",
    "  print(\"Something went wrong\")\n",
    "finally:\n",
    "  cv2.destroyAllWindows()"
   ]
  },
  {
   "cell_type": "code",
   "execution_count": 15,
   "metadata": {},
   "outputs": [
    {
     "name": "stdout",
     "output_type": "stream",
     "text": [
      "Image shape (25, 25, 3)\n",
      "Image type <class 'numpy.ndarray'>\n",
      "Image element type <class 'numpy.uint8'>\n",
      "[[[228 228 228]\n",
      "  [228 228 228]\n",
      "  [228 228 228]\n",
      "  [228 228 228]\n",
      "  [228 228 228]]\n",
      "\n",
      " [[228 228 228]\n",
      "  [170 170 170]\n",
      "  [170 170 170]\n",
      "  [170 170 170]\n",
      "  [170 170 170]]\n",
      "\n",
      " [[228 228 228]\n",
      "  [170 170 170]\n",
      "  [170 170 170]\n",
      "  [170 170 170]\n",
      "  [170 170 170]]\n",
      "\n",
      " [[228 228 228]\n",
      "  [170 170 170]\n",
      "  [170 170 170]\n",
      "  [170 170 170]\n",
      "  [170 170 170]]\n",
      "\n",
      " [[228 228 228]\n",
      "  [170 170 170]\n",
      "  [170 170 170]\n",
      "  [170 170 170]\n",
      "  [170 170 170]]]\n"
     ]
    }
   ],
   "source": [
    "img = cv2.imread(\"small.png\")\n",
    "print(\"Image shape {}\".format(img.shape))\n",
    "print(\"Image type {}\".format(type(img)))\n",
    "print(\"Image element type {}\".format(type(img[0,0,0])))\n",
    "print(img[0:5,0:5,:])"
   ]
  },
  {
   "cell_type": "code",
   "execution_count": 31,
   "metadata": {},
   "outputs": [
    {
     "name": "stdout",
     "output_type": "stream",
     "text": [
      "Image has shown\n"
     ]
    }
   ],
   "source": [
    "try:\n",
    "    img = cv2.imread(\"car.jpg\")\n",
    "    cv2.imshow(\"Window\",img[...,2])\n",
    "    cv2.waitKey(3000)\n",
    "    print(\"Image has shown\")\n",
    "except:\n",
    "  print(\"Something went wrong\")\n",
    "finally:\n",
    "  cv2.destroyAllWindows()"
   ]
  },
  {
   "cell_type": "code",
   "execution_count": 46,
   "metadata": {},
   "outputs": [
    {
     "name": "stdout",
     "output_type": "stream",
     "text": [
      "(50, 50)\n",
      "[[255. 255. 255. ... 255. 255. 255.]\n",
      " [255. 255. 255. ... 255. 255. 255.]\n",
      " [255. 255. 255. ... 255. 255. 255.]\n",
      " ...\n",
      " [255. 255. 255. ... 255. 255. 255.]\n",
      " [255. 255. 255. ... 255. 255. 255.]\n",
      " [255. 255. 255. ... 255. 255. 255.]]\n"
     ]
    }
   ],
   "source": []
  },
  {
   "cell_type": "code",
   "execution_count": 59,
   "metadata": {},
   "outputs": [
    {
     "name": "stdout",
     "output_type": "stream",
     "text": [
      "Image has shown\n"
     ]
    }
   ],
   "source": [
    "try:\n",
    "    img = np.full((500, 500),255,dtype = np.uint8)\n",
    "    img[200:300,200:300] = 0\n",
    "    cv2.imshow(\"Window\",img)\n",
    "    cv2.waitKey(2000)\n",
    "    print(\"Image has shown\")\n",
    "except:\n",
    "  print(\"Something went wrong\")\n",
    "finally:\n",
    "  cv2.destroyAllWindows()"
   ]
  },
  {
   "cell_type": "code",
   "execution_count": 64,
   "metadata": {},
   "outputs": [
    {
     "name": "stdout",
     "output_type": "stream",
     "text": [
      "Image has shown\n"
     ]
    }
   ],
   "source": [
    "try:\n",
    "    img = cv2.imread(\"car.jpg\")\n",
    "    grayimg = car[...,0] * 0.114 + car[...,1] * 0.587 + car[...,2] * 0.299\n",
    "    cv2.imshow(\"Window\",img)\n",
    "    cv2.waitKey(3000)\n",
    "    print(\"Image has shown\")\n",
    "except:\n",
    "  print(\"Something went wrong\")\n",
    "finally:\n",
    "  cv2.destroyAllWindows()"
   ]
  },
  {
   "cell_type": "code",
   "execution_count": null,
   "metadata": {},
   "outputs": [],
   "source": []
  }
 ],
 "metadata": {
  "kernelspec": {
   "display_name": "Python 3",
   "language": "python",
   "name": "python3"
  },
  "language_info": {
   "codemirror_mode": {
    "name": "ipython",
    "version": 3
   },
   "file_extension": ".py",
   "mimetype": "text/x-python",
   "name": "python",
   "nbconvert_exporter": "python",
   "pygments_lexer": "ipython3",
   "version": "3.8.5"
  }
 },
 "nbformat": 4,
 "nbformat_minor": 4
}
